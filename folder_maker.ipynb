{
 "metadata": {
  "language_info": {
   "codemirror_mode": {
    "name": "ipython",
    "version": 3
   },
   "file_extension": ".py",
   "mimetype": "text/x-python",
   "name": "python",
   "nbconvert_exporter": "python",
   "pygments_lexer": "ipython3",
   "version": "3.9.6-final"
  },
  "orig_nbformat": 2,
  "kernelspec": {
   "name": "python39664bit856ea8abbb1947e0a0a21ee3af6a41b7",
   "display_name": "Python 3.9.6 64-bit"
  }
 },
 "nbformat": 4,
 "nbformat_minor": 2,
 "cells": [
  {
   "source": [
    "# Folder maker\n",
    "\n",
    "Write a program which will create folders following given structure\n",
    "\n",
    "(for the beggining it should create the folders in a current directory,\n",
    "but we can give it a concrete one aka.: `/home/documents/school/sem1/` )\n",
    "\n",
    "```\n",
    ".\n",
    "|-- IAM\n",
    "|-- ICP\n",
    "|-- IDS\n",
    "|-- IPK\n",
    "|-- IPP\n",
    "|-- IZU\n",
    "`-- PLAB\n",
    "```\n",
    "\n",
    "some vocabulary first:\n",
    "* cwd ... current working directory (aka.: /home/documents/school)\n",
    "* os ... operating system, handles folder management (in python there is library for it)\n",
    "* rmdir ... abreviation for remove directory\n",
    "* access rights ... every file or folder has access rights (usually set to your user)\n",
    "\n"
   ],
   "cell_type": "markdown",
   "metadata": {}
  },
  {
   "source": [
    "\n",
    "# TODO: well you have to make your todo list now ¯\\_(ツ)_/¯\n",
    "\n",
    "def foo():\n",
    "    bar = 'Good luck!'\n",
    "    print(bar)\n",
    "\n",
    "foo()\n"
   ],
   "cell_type": "code",
   "metadata": {},
   "execution_count": 3,
   "outputs": [
    {
     "output_type": "stream",
     "name": "stdout",
     "text": [
      "Good luck!\n"
     ]
    }
   ]
  },
  {
   "source": [
    "Extend our program so it can create directories inside a directory and make a more complicated structures\n",
    "```\n",
    ".\n",
    "|-- IAM\n",
    "|   |-- cv\n",
    "|   `-- pr\n",
    "|-- ICP\n",
    "|   |-- cv\n",
    "|   `-- pr\n",
    "|-- IDS\n",
    "|   |-- cv\n",
    "|   `-- pr\n",
    "|-- IPK\n",
    "|   |-- cv\n",
    "|   `-- pr\n",
    "|-- IPP\n",
    "|   |-- cv\n",
    "|   `-- pr\n",
    "|-- IZU\n",
    "|   |-- cv\n",
    "|   `-- pr\n",
    "`-- PLAB\n",
    "    |-- cv\n",
    "    `-- pr\n",
    "```\n"
   ],
   "cell_type": "markdown",
   "metadata": {}
  },
  {
   "cell_type": "code",
   "execution_count": null,
   "metadata": {},
   "outputs": [],
   "source": []
  },
  {
   "source": [
    "More extensions\n",
    "* Choose which data representation would be the best for our little project (JSON, XML, or CSV)\n",
    "* Implement the support for the chosen data representation"
   ],
   "cell_type": "markdown",
   "metadata": {}
  }
 ]
}